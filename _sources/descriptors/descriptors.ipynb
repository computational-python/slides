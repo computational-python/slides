{
 "cells": [
  {
   "cell_type": "markdown",
   "metadata": {},
   "source": [
    "# Descriptors\n",
    "\n",
    "walking through the official docs at https://docs.python.org/3/howto/descriptor.html#descriptor-howto-guide"
   ]
  },
  {
   "cell_type": "markdown",
   "metadata": {},
   "source": [
    "## A trivial exampe"
   ]
  },
  {
   "cell_type": "code",
   "execution_count": 3,
   "metadata": {},
   "outputs": [],
   "source": [
    "import time\n",
    "\n",
    "class Ten:\n",
    "    def __get__(self, obj, objtype=None):\n",
    "        time.sleep(3)\n",
    "        return 10 "
   ]
  },
  {
   "cell_type": "code",
   "execution_count": 4,
   "metadata": {},
   "outputs": [],
   "source": [
    "class A:\n",
    "    x = 5\n",
    "    y = Ten()"
   ]
  },
  {
   "cell_type": "code",
   "execution_count": 5,
   "metadata": {},
   "outputs": [],
   "source": [
    "a = A()"
   ]
  },
  {
   "cell_type": "code",
   "execution_count": 6,
   "metadata": {},
   "outputs": [
    {
     "data": {
      "text/plain": [
       "5"
      ]
     },
     "execution_count": 6,
     "metadata": {},
     "output_type": "execute_result"
    }
   ],
   "source": [
    "a.x  # from class dictionary"
   ]
  },
  {
   "cell_type": "code",
   "execution_count": 7,
   "metadata": {},
   "outputs": [
    {
     "data": {
      "text/plain": [
       "10"
      ]
     },
     "execution_count": 7,
     "metadata": {},
     "output_type": "execute_result"
    }
   ],
   "source": [
    "a.y  # attribute value is not stored, but computed on demand"
   ]
  },
  {
   "cell_type": "markdown",
   "metadata": {},
   "source": [
    "\n",
    "## Dynamic lookup"
   ]
  },
  {
   "cell_type": "code",
   "execution_count": 8,
   "metadata": {},
   "outputs": [],
   "source": [
    "import os\n",
    "\n",
    "class DirectorySize:\n",
    "    def __get__(self, obj, objtype=None):\n",
    "        print(obj)\n",
    "        print(objtype)\n",
    "        return len(os.listdir(obj.dirname))\n",
    "    \n",
    "class Directory:\n",
    "    size = DirectorySize()\n",
    "    \n",
    "    def __init__(self, dirname):\n",
    "        self.dirname = dirname"
   ]
  },
  {
   "cell_type": "markdown",
   "metadata": {},
   "source": [
    "Parameters to `__get__`\n",
    "\n",
    "* size` is an instance of `DirectorySize`\n",
    "* obj an instance of Directory\n",
    "* objtype is the Directory class"
   ]
  },
  {
   "cell_type": "code",
   "execution_count": 9,
   "metadata": {},
   "outputs": [],
   "source": [
    "d = Directory('.')"
   ]
  },
  {
   "cell_type": "code",
   "execution_count": 10,
   "metadata": {},
   "outputs": [
    {
     "name": "stdout",
     "output_type": "stream",
     "text": [
      "<__main__.Directory object at 0x7fa6f46a2430>\n",
      "<class '__main__.Directory'>\n"
     ]
    },
    {
     "data": {
      "text/plain": [
       "12"
      ]
     },
     "execution_count": 10,
     "metadata": {},
     "output_type": "execute_result"
    }
   ],
   "source": [
    "d.size"
   ]
  },
  {
   "cell_type": "code",
   "execution_count": 11,
   "metadata": {},
   "outputs": [
    {
     "data": {
      "text/plain": [
       "'.'"
      ]
     },
     "execution_count": 11,
     "metadata": {},
     "output_type": "execute_result"
    }
   ],
   "source": [
    "d.dirname"
   ]
  },
  {
   "cell_type": "code",
   "execution_count": 12,
   "metadata": {},
   "outputs": [
    {
     "data": {
      "text/plain": [
       "['refreeze',\n",
       " 'descriptors.ipynb',\n",
       " 'requirements.txt',\n",
       " '.ipynb_checkpoints',\n",
       " 'talk.md',\n",
       " '.gitmodules',\n",
       " '.gitignore',\n",
       " '.venv',\n",
       " 'talk.css',\n",
       " 'index.html',\n",
       " 'Makefile',\n",
       " '.git']"
      ]
     },
     "execution_count": 12,
     "metadata": {},
     "output_type": "execute_result"
    }
   ],
   "source": [
    "os.listdir(d.dirname)"
   ]
  },
  {
   "cell_type": "code",
   "execution_count": 13,
   "metadata": {},
   "outputs": [
    {
     "data": {
      "text/plain": [
       "12"
      ]
     },
     "execution_count": 13,
     "metadata": {},
     "output_type": "execute_result"
    }
   ],
   "source": [
    "len(os.listdir(d.dirname))"
   ]
  },
  {
   "cell_type": "code",
   "execution_count": null,
   "metadata": {},
   "outputs": [],
   "source": []
  },
  {
   "cell_type": "markdown",
   "metadata": {},
   "source": [
    "## Managed attributes\n",
    "\n",
    "* public attribute has descriptor\n",
    "* private attribute has actual data\n",
    "\n",
    "### Logging attribute access"
   ]
  },
  {
   "cell_type": "code",
   "execution_count": 14,
   "metadata": {},
   "outputs": [],
   "source": [
    "class LoggedAgeAccess:\n",
    "    def __get__(self, obj, objtype=None):\n",
    "        print('foo')\n",
    "        return obj._age\n",
    "    \n",
    "    def __set__(self, obj, value):\n",
    "        print('bar')\n",
    "        obj._age = value\n",
    "\n",
    "class Person:\n",
    "    age = LoggedAgeAccess()\n",
    "    \n",
    "    def __init__(self, name, age):\n",
    "        self.name = name\n",
    "        self.age = age\n",
    "        \n",
    "    def birthday(self):\n",
    "        self.age += 1"
   ]
  },
  {
   "cell_type": "code",
   "execution_count": 15,
   "metadata": {},
   "outputs": [
    {
     "name": "stdout",
     "output_type": "stream",
     "text": [
      "bar\n"
     ]
    }
   ],
   "source": [
    "mary = Person('Mary', 70)"
   ]
  },
  {
   "cell_type": "code",
   "execution_count": 16,
   "metadata": {},
   "outputs": [
    {
     "data": {
      "text/plain": [
       "'Mary'"
      ]
     },
     "execution_count": 16,
     "metadata": {},
     "output_type": "execute_result"
    }
   ],
   "source": [
    "mary.name"
   ]
  },
  {
   "cell_type": "code",
   "execution_count": 17,
   "metadata": {},
   "outputs": [
    {
     "name": "stdout",
     "output_type": "stream",
     "text": [
      "foo\n"
     ]
    },
    {
     "data": {
      "text/plain": [
       "70"
      ]
     },
     "execution_count": 17,
     "metadata": {},
     "output_type": "execute_result"
    }
   ],
   "source": [
    "mary.age"
   ]
  },
  {
   "cell_type": "code",
   "execution_count": 18,
   "metadata": {},
   "outputs": [
    {
     "data": {
      "text/plain": [
       "{'name': 'Mary', '_age': 70}"
      ]
     },
     "execution_count": 18,
     "metadata": {},
     "output_type": "execute_result"
    }
   ],
   "source": [
    "vars(mary)"
   ]
  },
  {
   "cell_type": "code",
   "execution_count": 19,
   "metadata": {},
   "outputs": [
    {
     "data": {
      "text/plain": [
       "['__class__',\n",
       " '__delattr__',\n",
       " '__dict__',\n",
       " '__dir__',\n",
       " '__doc__',\n",
       " '__eq__',\n",
       " '__format__',\n",
       " '__ge__',\n",
       " '__getattribute__',\n",
       " '__gt__',\n",
       " '__hash__',\n",
       " '__init__',\n",
       " '__init_subclass__',\n",
       " '__le__',\n",
       " '__lt__',\n",
       " '__module__',\n",
       " '__ne__',\n",
       " '__new__',\n",
       " '__reduce__',\n",
       " '__reduce_ex__',\n",
       " '__repr__',\n",
       " '__setattr__',\n",
       " '__sizeof__',\n",
       " '__str__',\n",
       " '__subclasshook__',\n",
       " '__weakref__',\n",
       " '_age',\n",
       " 'age',\n",
       " 'birthday',\n",
       " 'name']"
      ]
     },
     "execution_count": 19,
     "metadata": {},
     "output_type": "execute_result"
    }
   ],
   "source": [
    "dir(mary)"
   ]
  },
  {
   "cell_type": "code",
   "execution_count": 22,
   "metadata": {},
   "outputs": [
    {
     "name": "stdout",
     "output_type": "stream",
     "text": [
      "foo\n",
      "bar\n"
     ]
    }
   ],
   "source": [
    "mary.birthday()"
   ]
  },
  {
   "cell_type": "markdown",
   "metadata": {},
   "source": [
    "## Customized names"
   ]
  },
  {
   "cell_type": "code",
   "execution_count": 24,
   "metadata": {},
   "outputs": [],
   "source": [
    "class LoggedAccess:\n",
    "    \n",
    "    def __set_name__(self, owner, name):\n",
    "        self.public_name = name\n",
    "        self.private_name = f'_{name}'\n",
    "        \n",
    "    def __get__(self, obj, objtype=None):\n",
    "        value = getattr(obj, self.private_name)\n",
    "        print('foo')\n",
    "        \n",
    "    def __set__(self, obj, value):\n",
    "        print('bar')\n",
    "        setattr(obj, self.private_name, value)\n",
    "        \n",
    "class Person:\n",
    "    name = LoggedAccess()\n",
    "    age = LoggedAccess()\n",
    "    \n",
    "    def __init__(self, name, age):\n",
    "        self.name = name\n",
    "        self.age = age\n",
    "        \n",
    "    def birthday(self):\n",
    "        self.age += 1"
   ]
  },
  {
   "cell_type": "code",
   "execution_count": 25,
   "metadata": {},
   "outputs": [
    {
     "data": {
      "text/plain": [
       "__main__.Person"
      ]
     },
     "execution_count": 25,
     "metadata": {},
     "output_type": "execute_result"
    }
   ],
   "source": [
    "Person"
   ]
  },
  {
   "cell_type": "code",
   "execution_count": 26,
   "metadata": {},
   "outputs": [
    {
     "data": {
      "text/plain": [
       "mappingproxy({'__module__': '__main__',\n",
       "              'name': <__main__.LoggedAccess at 0x7fa6f46a90a0>,\n",
       "              'age': <__main__.LoggedAccess at 0x7fa6f46a91c0>,\n",
       "              '__init__': <function __main__.Person.__init__(self, name, age)>,\n",
       "              'birthday': <function __main__.Person.birthday(self)>,\n",
       "              '__dict__': <attribute '__dict__' of 'Person' objects>,\n",
       "              '__weakref__': <attribute '__weakref__' of 'Person' objects>,\n",
       "              '__doc__': None})"
      ]
     },
     "execution_count": 26,
     "metadata": {},
     "output_type": "execute_result"
    }
   ],
   "source": [
    "vars(Person)"
   ]
  },
  {
   "cell_type": "code",
   "execution_count": 27,
   "metadata": {},
   "outputs": [
    {
     "data": {
      "text/plain": [
       "<__main__.LoggedAccess at 0x7fa6f46a90a0>"
      ]
     },
     "execution_count": 27,
     "metadata": {},
     "output_type": "execute_result"
    }
   ],
   "source": [
    "vars(Person)['name']"
   ]
  },
  {
   "cell_type": "code",
   "execution_count": 28,
   "metadata": {},
   "outputs": [
    {
     "data": {
      "text/plain": [
       "{'public_name': 'name', 'private_name': '_name'}"
      ]
     },
     "execution_count": 28,
     "metadata": {},
     "output_type": "execute_result"
    }
   ],
   "source": [
    "vars(vars(Person)['name']) # look up descriptor without triggering it"
   ]
  },
  {
   "cell_type": "code",
   "execution_count": 29,
   "metadata": {},
   "outputs": [
    {
     "data": {
      "text/plain": [
       "{'public_name': 'age', 'private_name': '_age'}"
      ]
     },
     "execution_count": 29,
     "metadata": {},
     "output_type": "execute_result"
    }
   ],
   "source": [
    "vars(vars(Person)['age'])"
   ]
  },
  {
   "cell_type": "code",
   "execution_count": 30,
   "metadata": {},
   "outputs": [
    {
     "name": "stdout",
     "output_type": "stream",
     "text": [
      "bar\n",
      "bar\n"
     ]
    }
   ],
   "source": [
    "pete = Person('Peter', 10)"
   ]
  },
  {
   "cell_type": "code",
   "execution_count": 31,
   "metadata": {},
   "outputs": [
    {
     "name": "stdout",
     "output_type": "stream",
     "text": [
      "bar\n",
      "bar\n"
     ]
    }
   ],
   "source": [
    "kate = Person('Catherine', 20)"
   ]
  },
  {
   "cell_type": "code",
   "execution_count": 32,
   "metadata": {},
   "outputs": [
    {
     "data": {
      "text/plain": [
       "{'_name': 'Peter', '_age': 10}"
      ]
     },
     "execution_count": 32,
     "metadata": {},
     "output_type": "execute_result"
    }
   ],
   "source": [
    "vars(pete)"
   ]
  },
  {
   "cell_type": "code",
   "execution_count": 33,
   "metadata": {},
   "outputs": [
    {
     "data": {
      "text/plain": [
       "{'_name': 'Catherine', '_age': 20}"
      ]
     },
     "execution_count": 33,
     "metadata": {},
     "output_type": "execute_result"
    }
   ],
   "source": [
    "vars(kate)"
   ]
  },
  {
   "cell_type": "markdown",
   "metadata": {},
   "source": [
    "* A descriptor is an object that defines `__get__`, `__set__`, also `__delete__`\n",
    "* `__set_name__` is needed when the descriptor needs to know about the class or class variable\n",
    "* Invoked by dot operator attribute lookup\n",
    "* Need to be used as class variables\n",
    "* Motivation: provide a hook for controlling what happens during a dot lookup\n",
    "* Removes control from class definition to data being looked up\n",
    "* Examples which are implemented as descriptors\n",
    "    - `classmethod`\n",
    "    - `staticmethod`\n",
    "    - `property`\n",
    "    - `functools.cached_property`"
   ]
  },
  {
   "cell_type": "markdown",
   "metadata": {},
   "source": [
    "## Complete Practical Example"
   ]
  },
  {
   "cell_type": "markdown",
   "metadata": {},
   "source": [
    "### Validator class\n",
    "\n",
    "A descriptor for managed attribute access"
   ]
  },
  {
   "cell_type": "code",
   "execution_count": 71,
   "metadata": {},
   "outputs": [],
   "source": [
    "import abc\n",
    "\n",
    "class Validator(abc.ABC):                             # an abstract base class\n",
    "    def __set_name__(self, owner, name):\n",
    "        self.private_name = f'_{name}'\n",
    "        \n",
    "    def __get__(self, obj, objtype=None):\n",
    "        return getattr(obj, self.private_name)        #  a descriptor\n",
    "    \n",
    "    def __set__(self, obj, value):\n",
    "        self.validate(value)\n",
    "        setattr(obj, self.private_name, value)\n",
    "        \n",
    "    @abc.abstractmethod\n",
    "    def validate(self):\n",
    "        pass"
   ]
  },
  {
   "cell_type": "markdown",
   "metadata": {},
   "source": [
    "### verify that a value is one of a series of options"
   ]
  },
  {
   "cell_type": "code",
   "execution_count": 72,
   "metadata": {},
   "outputs": [],
   "source": [
    "class OneOf(Validator):\n",
    "\n",
    "    def __init__(self, *options):\n",
    "        self.options = set(options)\n",
    "        \n",
    "    def validate(self, value):\n",
    "        if value not in self.options:\n",
    "            raise ValueError(f'Expected {value} to be one of {self.options}')"
   ]
  },
  {
   "cell_type": "code",
   "execution_count": 74,
   "metadata": {},
   "outputs": [],
   "source": [
    "class Foo:\n",
    "    value = OneOf(1, 2)\n",
    "    \n",
    "    def __init__(self, value=1):\n",
    "        self.value = value"
   ]
  },
  {
   "cell_type": "code",
   "execution_count": 75,
   "metadata": {},
   "outputs": [],
   "source": [
    "foo = Foo()"
   ]
  },
  {
   "cell_type": "code",
   "execution_count": 76,
   "metadata": {},
   "outputs": [
    {
     "data": {
      "text/plain": [
       "1"
      ]
     },
     "execution_count": 76,
     "metadata": {},
     "output_type": "execute_result"
    }
   ],
   "source": [
    "foo.value"
   ]
  },
  {
   "cell_type": "code",
   "execution_count": 77,
   "metadata": {},
   "outputs": [],
   "source": [
    "foo.value = 2\n"
   ]
  },
  {
   "cell_type": "code",
   "execution_count": 78,
   "metadata": {},
   "outputs": [
    {
     "data": {
      "text/plain": [
       "2"
      ]
     },
     "execution_count": 78,
     "metadata": {},
     "output_type": "execute_result"
    }
   ],
   "source": [
    "foo.value"
   ]
  },
  {
   "cell_type": "code",
   "execution_count": 85,
   "metadata": {},
   "outputs": [],
   "source": [
    "# foo.value = 3"
   ]
  },
  {
   "cell_type": "markdown",
   "metadata": {},
   "source": [
    "    foo.value = 3\n",
    "    \n",
    "    ---------------------------------------------------------------------------\n",
    "    ValueError                                Traceback (most recent call last)\n",
    "    <ipython-input-79-225e3a6b882d> in <module>\n",
    "    ----> 1 foo.value = 3\n",
    "\n",
    "    <ipython-input-71-46f3483445db> in __set__(self, obj, value)\n",
    "          9 \n",
    "         10     def __set__(self, obj, value):\n",
    "    ---> 11         self.validate(value)\n",
    "         12         setattr(obj, self.private_name, value)\n",
    "         13 \n",
    "\n",
    "    <ipython-input-72-39812059dd46> in validate(self, value)\n",
    "          6     def validate(self, value):\n",
    "          7         if value not in self.options:\n",
    "    ----> 8             raise ValueError(f'Expected {value} to be one of {self.options}')\n",
    "\n",
    "    ValueError: Expected 3 to be one of {1, 2}\n"
   ]
  },
  {
   "cell_type": "markdown",
   "metadata": {},
   "source": [
    "\n",
    "### Number and range validator"
   ]
  },
  {
   "cell_type": "code",
   "execution_count": 108,
   "metadata": {},
   "outputs": [],
   "source": [
    "class Number(Validator):\n",
    "    \n",
    "    def __init__(self, minvalue=None, maxvalue=None):\n",
    "        self.minvalue = minvalue\n",
    "        self.maxvalue = maxvalue\n",
    "        \n",
    "    def validate(self, value):\n",
    "        if not isinstance(value, (int, float)):\n",
    "            raise TypeError(f'{value} has wrong type')\n",
    "            \n",
    "        if self.minvalue is not None:\n",
    "            assert value >= self.minvalue, f'{value} too small'\n",
    "            \n",
    "        if self.maxvalue is not None:\n",
    "            assert value <= self.maxvalue, f'{value} too large'\n",
    "            \n",
    "        "
   ]
  },
  {
   "cell_type": "code",
   "execution_count": 109,
   "metadata": {},
   "outputs": [],
   "source": [
    "class Foo:\n",
    "    value = Number()"
   ]
  },
  {
   "cell_type": "code",
   "execution_count": 110,
   "metadata": {},
   "outputs": [],
   "source": [
    "foo = Foo()"
   ]
  },
  {
   "cell_type": "code",
   "execution_count": 111,
   "metadata": {},
   "outputs": [],
   "source": [
    "foo.value = 1"
   ]
  },
  {
   "cell_type": "code",
   "execution_count": 112,
   "metadata": {},
   "outputs": [],
   "source": [
    "# foo.value = 'bar'"
   ]
  },
  {
   "cell_type": "markdown",
   "metadata": {},
   "source": [
    "    TypeError                                 Traceback (most recent call last)\n",
    "    <ipython-input-93-206f4cfd8d6e> in <module>\n",
    "    ----> 1 foo.value = 'bar'\n",
    "\n",
    "    <ipython-input-71-46f3483445db> in __set__(self, obj, value)\n",
    "          9 \n",
    "         10     def __set__(self, obj, value):\n",
    "    ---> 11         self.validate(value)\n",
    "         12         setattr(obj, self.private_name, value)\n",
    "         13 \n",
    "\n",
    "    <ipython-input-86-3bac73ce19d8> in validate(self, value)\n",
    "          7     def validate(self, value):\n",
    "          8         if not isinstance(value, (int, float)):\n",
    "    ----> 9             raise TypeError(f'{value} has wrong type')\n",
    "         10 \n",
    "         11         if self.minvalue is not None:\n",
    "\n",
    "    TypeError: bar has wrong type\n"
   ]
  },
  {
   "cell_type": "code",
   "execution_count": 113,
   "metadata": {},
   "outputs": [],
   "source": [
    "class Bar:\n",
    "    value = Number(1, 3)"
   ]
  },
  {
   "cell_type": "code",
   "execution_count": 114,
   "metadata": {},
   "outputs": [],
   "source": [
    "bar = Bar()"
   ]
  },
  {
   "cell_type": "code",
   "execution_count": 115,
   "metadata": {},
   "outputs": [],
   "source": [
    "bar.value = 1"
   ]
  },
  {
   "cell_type": "code",
   "execution_count": 117,
   "metadata": {},
   "outputs": [],
   "source": [
    "# bar.value = 0"
   ]
  },
  {
   "cell_type": "markdown",
   "metadata": {},
   "source": [
    "\n",
    "    ---------------------------------------------------------------------------\n",
    "    AssertionError                            Traceback (most recent call last)\n",
    "    <ipython-input-107-c136dd53065f> in <module>\n",
    "    ----> 1 bar.value = 0\n",
    "\n",
    "    <ipython-input-71-46f3483445db> in __set__(self, obj, value)\n",
    "          9 \n",
    "         10     def __set__(self, obj, value):\n",
    "    ---> 11         self.validate(value)\n",
    "         12         setattr(obj, self.private_name, value)\n",
    "         13 \n",
    "\n",
    "    <ipython-input-86-3bac73ce19d8> in validate(self, value)\n",
    "         10 \n",
    "         11         if self.minvalue is not None:\n",
    "    ---> 12             assert value >= self.minvalue\n",
    "         13 \n",
    "         14         if self.maxvalue is not None:\n",
    "\n",
    "    AssertionError: 0 too small\n"
   ]
  },
  {
   "cell_type": "code",
   "execution_count": 119,
   "metadata": {},
   "outputs": [],
   "source": [
    "# bar.value = 4"
   ]
  },
  {
   "cell_type": "markdown",
   "metadata": {},
   "source": [
    "---------------------------------------------------------------------------\n",
    "    AssertionError                            Traceback (most recent call last)\n",
    "    <ipython-input-98-c136dd53065f> in <module>\n",
    "    ----> 1 bar.value = 0\n",
    "\n",
    "    <ipython-input-71-46f3483445db> in __set__(self, obj, value)\n",
    "          9 \n",
    "         10     def __set__(self, obj, value):\n",
    "    ---> 11         self.validate(value)\n",
    "         12         setattr(obj, self.private_name, value)\n",
    "         13 \n",
    "\n",
    "    <ipython-input-86-3bac73ce19d8> in validate(self, value)\n",
    "         10 \n",
    "         11         if self.minvalue is not None:\n",
    "    ---> 12             assert value >= self.minvalue\n",
    "         13 \n",
    "         14         if self.maxvalue is not None:\n",
    "\n",
    "    AssertionError: 4 too large\n"
   ]
  },
  {
   "cell_type": "markdown",
   "metadata": {},
   "source": [
    "### String validator"
   ]
  },
  {
   "cell_type": "code",
   "execution_count": 143,
   "metadata": {},
   "outputs": [],
   "source": [
    "class String(Validator):\n",
    "    def __init__(self, minsize=None, maxsize=None, predicate=None):\n",
    "        self.minsize = minsize\n",
    "        self.maxsize = maxsize\n",
    "        self.predicate = predicate\n",
    "        \n",
    "    def validate(self, value):\n",
    "        assert isinstance(value, str), 'Wrong type'\n",
    "        if self.minsize is not None:\n",
    "            assert len(value) >= self.minsize, 'Too short'\n",
    "        if self.maxsize is not None:\n",
    "            assert len(value) <= self.maxsize, 'Too long'\n",
    "        if self.predicate is not None:\n",
    "            assert self.predicate(value)\n",
    "        "
   ]
  },
  {
   "cell_type": "code",
   "execution_count": 156,
   "metadata": {},
   "outputs": [],
   "source": [
    "class Foo:\n",
    "    string = String(1, 6, lambda s: not s.startswith('foo'))"
   ]
  },
  {
   "cell_type": "code",
   "execution_count": 157,
   "metadata": {},
   "outputs": [],
   "source": [
    "foo = Foo()"
   ]
  },
  {
   "cell_type": "code",
   "execution_count": 158,
   "metadata": {},
   "outputs": [],
   "source": [
    "foo.string = 'bar'"
   ]
  },
  {
   "cell_type": "code",
   "execution_count": 159,
   "metadata": {},
   "outputs": [],
   "source": [
    "# foo.string = 1"
   ]
  },
  {
   "cell_type": "markdown",
   "metadata": {},
   "source": [
    "    ---------------------------------------------------------------------------\n",
    "    AssertionError                            Traceback (most recent call last)\n",
    "    <ipython-input-141-b691054e049f> in <module>\n",
    "    ----> 1 foo.string = 1\n",
    "\n",
    "    <ipython-input-71-46f3483445db> in __set__(self, obj, value)\n",
    "          9 \n",
    "         10     def __set__(self, obj, value):\n",
    "    ---> 11         self.validate(value)\n",
    "         12         setattr(obj, self.private_name, value)\n",
    "         13 \n",
    "\n",
    "    <ipython-input-137-f7279bd8de7d> in validate(self, value)\n",
    "          6 \n",
    "          7     def validate(self, value):\n",
    "    ----> 8         assert isinstance(value, str)\n",
    "          9         if self.minsize is not None:\n",
    "         10             assert len(value) >= self.minsize, 'Too short'\n",
    "\n",
    "    AssertionError:  Wrong type\n"
   ]
  },
  {
   "cell_type": "code",
   "execution_count": 160,
   "metadata": {},
   "outputs": [],
   "source": [
    "# foo.string = ''"
   ]
  },
  {
   "cell_type": "markdown",
   "metadata": {},
   "source": [
    "    ---------------------------------------------------------------------------\n",
    "    AssertionError                            Traceback (most recent call last)\n",
    "    <ipython-input-149-236f25d3f97b> in <module>\n",
    "    ----> 1 foo.string = ''\n",
    "\n",
    "    <ipython-input-71-46f3483445db> in __set__(self, obj, value)\n",
    "          9 \n",
    "         10     def __set__(self, obj, value):\n",
    "    ---> 11         self.validate(value)\n",
    "         12         setattr(obj, self.private_name, value)\n",
    "         13 \n",
    "\n",
    "    <ipython-input-143-150b151ed35c> in validate(self, value)\n",
    "          8         assert isinstance(value, str), 'Wrong type'\n",
    "          9         if self.minsize is not None:\n",
    "    ---> 10             assert len(value) >= self.minsize, 'Too short'\n",
    "         11         if self.maxsize is not None:\n",
    "         12             assert len(value) <= self.maxsize, 'Too long'\n",
    "\n",
    "    AssertionError: Too short\n",
    "\n"
   ]
  },
  {
   "cell_type": "code",
   "execution_count": 163,
   "metadata": {},
   "outputs": [],
   "source": [
    "# foo.string = 'foobarbaz'"
   ]
  },
  {
   "cell_type": "markdown",
   "metadata": {},
   "source": [
    "    ---------------------------------------------------------------------------\n",
    "    AssertionError                            Traceback (most recent call last)\n",
    "    <ipython-input-151-f0bcb1d4aadb> in <module>\n",
    "    ----> 1 foo.string = 'foobarbaz'\n",
    "\n",
    "    <ipython-input-71-46f3483445db> in __set__(self, obj, value)\n",
    "          9 \n",
    "         10     def __set__(self, obj, value):\n",
    "    ---> 11         self.validate(value)\n",
    "         12         setattr(obj, self.private_name, value)\n",
    "         13 \n",
    "\n",
    "    <ipython-input-143-150b151ed35c> in validate(self, value)\n",
    "         10             assert len(value) >= self.minsize, 'Too short'\n",
    "         11         if self.maxsize is not None:\n",
    "    ---> 12             assert len(value) <= self.maxsize, 'Too long'\n",
    "         13         if self.predicate is not None:\n",
    "         14             assert self.predicate(value)\n",
    "\n",
    "    AssertionError: Too long\n"
   ]
  },
  {
   "cell_type": "code",
   "execution_count": 164,
   "metadata": {},
   "outputs": [],
   "source": [
    "# foo.string = 'foobar'"
   ]
  },
  {
   "cell_type": "markdown",
   "metadata": {},
   "source": [
    "\n",
    "    ---------------------------------------------------------------------------\n",
    "    AssertionError                            Traceback (most recent call last)\n",
    "    <ipython-input-165-853dbd1aeedf> in <module>\n",
    "    ----> 1 foo.string = 'foobar'\n",
    "\n",
    "    <ipython-input-71-46f3483445db> in __set__(self, obj, value)\n",
    "          9 \n",
    "         10     def __set__(self, obj, value):\n",
    "    ---> 11         self.validate(value)\n",
    "         12         setattr(obj, self.private_name, value)\n",
    "         13 \n",
    "\n",
    "    <ipython-input-143-150b151ed35c> in validate(self, value)\n",
    "         12             assert len(value) <= self.maxsize, 'Too long'\n",
    "         13         if self.predicate is not None:\n",
    "    ---> 14             assert self.predicate(value)\n",
    "         15 \n",
    "\n",
    "    AssertionError: \n"
   ]
  },
  {
   "cell_type": "markdown",
   "metadata": {},
   "source": [
    "### Practical use case"
   ]
  },
  {
   "cell_type": "code",
   "execution_count": 166,
   "metadata": {},
   "outputs": [],
   "source": [
    "class Component:\n",
    "\n",
    "    name = String(minsize=3, maxsize=10, predicate=str.isupper)\n",
    "    kind = OneOf('wood', 'metal', 'plastic')\n",
    "    quantity = Number(minvalue=0)\n",
    "\n",
    "    def __init__(self, name, kind, quantity):\n",
    "        self.name = name\n",
    "        self.kind = kind\n",
    "        self.quantity = quantity\n"
   ]
  },
  {
   "cell_type": "code",
   "execution_count": 168,
   "metadata": {},
   "outputs": [
    {
     "data": {
      "text/plain": [
       "<__main__.Component at 0x7fa6f46a93a0>"
      ]
     },
     "execution_count": 168,
     "metadata": {},
     "output_type": "execute_result"
    }
   ],
   "source": [
    "Component('BLA', 'wood', 1)"
   ]
  }
 ],
 "metadata": {
  "kernelspec": {
   "display_name": "Python 3",
   "language": "python",
   "name": "python3"
  },
  "language_info": {
   "codemirror_mode": {
    "name": "ipython",
    "version": 3
   },
   "file_extension": ".py",
   "mimetype": "text/x-python",
   "name": "python",
   "nbconvert_exporter": "python",
   "pygments_lexer": "ipython3",
   "version": "3.9.0"
  }
 },
 "nbformat": 4,
 "nbformat_minor": 4
}
